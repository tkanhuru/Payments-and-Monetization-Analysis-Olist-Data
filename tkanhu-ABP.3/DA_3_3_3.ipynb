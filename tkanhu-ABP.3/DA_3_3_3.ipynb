{
  "nbformat": 4,
  "nbformat_minor": 0,
  "metadata": {
    "colab": {
      "name": "DA_3_3_3.ipynb",
      "provenance": [],
      "collapsed_sections": []
    },
    "kernelspec": {
      "name": "python3",
      "display_name": "Python 3"
    },
    "language_info": {
      "name": "python"
    }
  },
  "cells": [
    {
      "cell_type": "markdown",
      "source": [
        "# Module 3: Analyzing Business Problems\n",
        "## Sprint 3: Payments / Monetisation Analyst\n",
        "## Part 3: Graded task\n",
        "\n",
        "Your manager is very happy with the data you provided him the week before, but now he is interested in how you can handle analysis on your own. He does not give you concrete questions to be answered, just asks you to use any data in the company databases and come up with a useful analysis on your own. It can be from different aspects of the business, but he expects you to provide him with at least 3-5 insights about business.\n",
        "\n",
        "You should use tables from [olist_db](https://console.cloud.google.com/bigquery?project=tc-da-1&ws=!1m5!1m4!4m3!1stc-da-1!2solist_db!3solist_customesr_dataset&j=bq:US:bquxjob_439ea020_17f990edf1c&page=queryresults) to come up with an analysis on your own. You will have to write SQL queries to extract needed data, then analyze and visualize this data either with Google Sheets or other data visualization tools. After all this, you will have to come up with a presentation oriented to executives from your company. Have in mind your audience for the presentation, these will be business oriented people who are not data analysts and may not have studied statistics before.\n",
        "\n",
        "- Write SQL queries to extract needed data, these queries should be well documented, with indentation and provided in separate file\n",
        "- Provide your analysis in Google Sheets or any other data visualization tool, have in mind that this file should contain all the things you tried to look at even if they did not bring any useful insights\n",
        "- Provide presentation with around 10 slides which would be business focused and would present only the most interesting 3-5 insights\n",
        "- See whether you can apply at least 2 techniques learned in this or previous sprints\n",
        "- Explore the data. See whether there are interesting data points that can give more insights to your presentation.\n",
        "- Provide analytical insights, what are the drawbacks of this analysis, what further analysis could you recommend? \n",
        "- Do not forget how you should structure your presentation which you learnt during the first sprint of the first module.\n",
        "\n",
        "*Tip: to make valuable business insights, it’s almost never enough to only look at the data. It is often very beneficial to do some additional research about the industry and the business as well. Such ability to learn quickly about different domains is an extremely valuable skill, especially when starting jobs at new companies.*\n",
        "\n",
        "## Evaluation criteria for a Graded project submission\n",
        "\n",
        "- SQL is nicely formatted and there are no logic errors in queries.\n",
        "- You have followed analysis steps correctly and clearly communicated in your presentation what you were looking for with your analysis, results, and provided further recommendations.\n",
        "- You have understood the payments / monetisation topic and managed to use at least 1 technique which you learnt in this module.\n",
        "- You have successfully used at least 2 techniques learnt previously.\n",
        "- Analysis, findings and main points clearly structured.\n",
        "- Analytical approach to the problem. Using data analysis to provide justified, useful and actionable insights\n",
        "\n",
        "\n",
        "*During a task review, you may get asked questions that test your understanding of covered topics.*\n",
        "\n",
        "**Sample questions:**\n",
        "\n",
        "- Why is using transactional data useful from payments / monetisation perspective?\n",
        "- How could you use longitude and latitude data of Olist to analyze business performance?\n",
        "- What is the Pareto principle? Does it apply to Olist data?\n",
        "\n",
        "\n",
        "## Submission\n",
        "Upload all solution files for this graded task to your GitHub repository using the \"Add File\" function.\n",
        "\n",
        "## Accessing the next notebook:\n",
        "After you schedule your project reviews, you can already start working on the next part from the upcoming sprint. Contact Turing Staff via the chat function in the platform to receive it (unfortunately, the system cannot currently give early access to notebooks from different modules). Once the project review is completed, you will see this content in the Turing platform normally.\n"
      ],
      "metadata": {
        "id": "RGASlyizUCNw"
      }
    }
  ]
}
